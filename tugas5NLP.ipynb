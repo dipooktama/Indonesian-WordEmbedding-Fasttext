{
 "cells": [
  {
   "cell_type": "code",
   "execution_count": 1,
   "metadata": {},
   "outputs": [],
   "source": [
    "import fasttext\n",
    "import gensim"
   ]
  },
  {
   "cell_type": "code",
   "execution_count": 11,
   "metadata": {},
   "outputs": [],
   "source": [
    "from gensim.corpora import WikiCorpus\n",
    "dataset = WikiCorpus(r\"C:\\kuliah\\NLP\\idwiki-07082019-pages-articles.xml.bz2\", lemmatize=False, dictionary={})"
   ]
  },
  {
   "cell_type": "code",
   "execution_count": 14,
   "metadata": {},
   "outputs": [],
   "source": [
    "with open(\"wiki-id-formatted.txt\", 'w', encoding=\"utf8\") as output:\n",
    "    counter = 0\n",
    "    for text in dataset.get_texts():\n",
    "        output.write(' '.join(text)+\"\\n\")\n",
    "        counter = counter + 1\n",
    "        if counter > 100000:\n",
    "            break"
   ]
  },
  {
   "cell_type": "code",
   "execution_count": 15,
   "metadata": {},
   "outputs": [],
   "source": [
    "model = fasttext.train_unsupervised(\"wiki-id-formatted.txt\", model='skipgram')\n",
    "model.save_model(\"cobaFastText.bin\")"
   ]
  },
  {
   "cell_type": "code",
   "execution_count": 73,
   "metadata": {},
   "outputs": [
    {
     "name": "stdout",
     "output_type": "stream",
     "text": [
      "[ 0.3172126  -0.06472895  0.31610486 -0.33550897  0.17082356  0.6062153\n",
      " -0.67176604  0.12366282  0.603325    0.44021538  0.23388538  0.7808552\n",
      "  0.16046274  0.42349774  0.3723173  -0.48082998 -0.15286134  0.2735401\n",
      " -0.12519076  0.20916168 -0.6251178   0.8157133   0.16191536  0.24393041\n",
      "  0.644204    0.30825984  0.52416617 -0.6960831  -0.42378208 -0.03385653\n",
      "  0.4783712   0.3734613  -0.3731142  -0.21328926 -0.28253385 -0.3119091\n",
      " -0.29365036 -0.23708531  0.13234156  0.06302203 -0.7322082   0.49243772\n",
      "  0.32656604 -0.09369136 -0.50234455 -0.05828688  0.10744619  0.3799762\n",
      " -0.15637016  0.01943329  0.5448159   0.03850422 -0.12241516  0.13103752\n",
      "  0.25166538  0.55605584 -0.28018767  0.20537922  0.564968   -0.28559205\n",
      "  0.43189657  0.16460824 -0.23728128 -0.27453414 -0.07581472 -0.16941877\n",
      "  0.02227114  0.1251161   0.7066914   0.02871423  0.11257225  0.16975422\n",
      "  0.5538178  -0.26982367 -0.18224376 -0.17195164  0.6630012  -0.32638225\n",
      " -0.17086145 -0.5299087  -0.39379743 -0.3461171   0.26811725 -0.10889513\n",
      "  0.27690542 -0.04772085 -0.2904074  -0.04482617 -0.2645625  -0.07586787\n",
      "  0.06525207 -0.02316235 -0.39748862 -0.0164919  -0.3493751  -0.20981142\n",
      "  0.2939551  -0.02764591  0.33926213  0.32215124]\n",
      "100\n"
     ]
    }
   ],
   "source": [
    "kata = \"australia\"\n",
    "vektor = model[kata]\n",
    "print(vektor)\n",
    "print(len(vektor))"
   ]
  },
  {
   "cell_type": "code",
   "execution_count": 76,
   "metadata": {},
   "outputs": [],
   "source": [
    "import math\n",
    "def vector_len(v):\n",
    "    return math.sqrt(sum([x*x for x in v]))\n",
    "def dot_product(v1, v2):\n",
    "    return sum([x*y for (x,y) in zip(v1, v2)])\n",
    "def cosine_similarity(v1, v2):\n",
    "    return dot_product(v1, v2)/(vector_len(v1) * vector_len(v2))\n",
    "def most_similiar(x):\n",
    "    v1 = model.get_word_vector(x)\n",
    "    all_word = []\n",
    "    counter = 0\n",
    "    for word in model.words:\n",
    "        if word != x and counter <= 10000:\n",
    "            v2 = model.get_word_vector(word)\n",
    "            all_word.append((cosine_similarity(v1,v2),word))\n",
    "            counter += 1\n",
    "    res = all_word.sort(reverse=True)\n",
    "    return all_word[0:10]"
   ]
  },
  {
   "cell_type": "code",
   "execution_count": 77,
   "metadata": {
    "scrolled": true
   },
   "outputs": [
    {
     "name": "stdout",
     "output_type": "stream",
     "text": [
      "[(0.812528849894387, 'selandia'), (0.7938031320422306, 'australian'), (0.779893318040817, 'queensland'), (0.7320973065922621, 'zealand'), (0.729257441441014, 'kanada'), (0.7222132968538363, 'melbourne'), (0.7140328927768452, 'wales'), (0.7107230078891502, 'tasmania'), (0.6830195549653224, 'britania'), (0.6705011065084756, 'canberra')]\n",
      "<class 'list'>\n"
     ]
    }
   ],
   "source": [
    "coba = most_similiar(\"australia\")\n",
    "print(coba)\n",
    "print(type(coba))"
   ]
  }
 ],
 "metadata": {
  "kernelspec": {
   "display_name": "Python 3",
   "language": "python",
   "name": "python3"
  },
  "language_info": {
   "codemirror_mode": {
    "name": "ipython",
    "version": 3
   },
   "file_extension": ".py",
   "mimetype": "text/x-python",
   "name": "python",
   "nbconvert_exporter": "python",
   "pygments_lexer": "ipython3",
   "version": "3.7.4"
  }
 },
 "nbformat": 4,
 "nbformat_minor": 2
}
